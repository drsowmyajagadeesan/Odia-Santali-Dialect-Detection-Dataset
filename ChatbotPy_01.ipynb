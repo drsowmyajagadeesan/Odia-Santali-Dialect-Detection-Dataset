{
  "nbformat": 4,
  "nbformat_minor": 0,
  "metadata": {
    "colab": {
      "provenance": [],
      "authorship_tag": "ABX9TyPx77atugGAw/9vmUIsQFcR",
      "include_colab_link": true
    },
    "kernelspec": {
      "name": "python3",
      "display_name": "Python 3"
    },
    "language_info": {
      "name": "python"
    }
  },
  "cells": [
    {
      "cell_type": "markdown",
      "metadata": {
        "id": "view-in-github",
        "colab_type": "text"
      },
      "source": [
        "<a href=\"https://colab.research.google.com/github/drsowmyajagadeesan/Odia-Santali-Dialect-Detection-Dataset/blob/main/ChatbotPy_01.ipynb\" target=\"_parent\"><img src=\"https://colab.research.google.com/assets/colab-badge.svg\" alt=\"Open In Colab\"/></a>"
      ]
    },
    {
      "cell_type": "code",
      "execution_count": null,
      "metadata": {
        "colab": {
          "base_uri": "https://localhost:8080/"
        },
        "id": "LpFDYFjSpOTE",
        "outputId": "e844c34f-0da3-4272-d92e-f6cbbc66a944"
      },
      "outputs": [
        {
          "output_type": "stream",
          "name": "stdout",
          "text": [
            "What is your name? rr\n",
            "Hi rr, I'm Jarvis. I'm not from this planet. Will you help me learn about your planet? sure\n",
            "Why are you here? cos earth\n",
            "Interesting. Can you tell me more? jljj uiuiu fffff\n",
            "Why?rrr vvvv wwww\n",
            "Why do you say that? ok bye\n",
            "Ok, have a nice Earth day!\n"
          ]
        }
      ],
      "source": [
        "# importing regex and random libraries\n",
        "import re\n",
        "import random\n",
        "\n",
        "class AlienBot:\n",
        "  # potential negative responses\n",
        "  negative_responses = (\"no\", \"nope\", \"nah\", \"naw\", \"not a chance\", \"sorry\")\n",
        "  # keywords for exiting the conversation\n",
        "  exit_commands = (\"quit\", \"pause\", \"exit\", \"goodbye\", \"bye\", \"later\")\n",
        "  # random starter questions\n",
        "  random_questions = (\n",
        "        \"Why are you here? \",\n",
        "        \"Are there many humans like you? \",\n",
        "        \"What do you consume for sustenance? \",\n",
        "        \"Is there intelligent life on this planet? \",\n",
        "        \"Does Earth have a leader? \",\n",
        "        \"What planets have you visited? \",\n",
        "        \"What technology do you have on this planet? \"\n",
        "    )\n",
        "\n",
        "  def __init__(self):\n",
        "    self.alienbabble = {\n",
        "'describe_planet_intent': (r'.*\\s*your planet.*'), 'answer_why_intent': (r'.*\\s*why are.*'),\n",
        "'cubed_intent': r'.*cube.*(\\d+)'\n",
        "}\n",
        "\n",
        "  # Define .greet() below:\n",
        "  def greet(self):\n",
        "    self.name = input(\"What is your name? \")\n",
        "    will_help = input(f\"Hi {self.name}, I'm Jarvis. I'm not from this planet. Will you help me learn about your planet? \")\n",
        "    if will_help in self.negative_responses:\n",
        "      print(\"Ok, have a nice Earth day!\")\n",
        "      return\n",
        "    self.chat()\n",
        "  # Define .make_exit() here:\n",
        "  def make_exit(self, reply):\n",
        "    for word in self.exit_commands:\n",
        "      if word in reply:\n",
        "        print(\"Ok, have a nice Earth day!\")\n",
        "        return True\n",
        "  # Define .chat() next:\n",
        "  def chat(self):\n",
        "    reply = input(random.choice(self.random_questions)).lower()\n",
        "    while not self.make_exit(reply):\n",
        "      reply = input(self.match_reply(reply))\n",
        "\n",
        "  # Define .match_reply() below:\n",
        "  def match_reply(self, reply):\n",
        "    for key, value in self.alienbabble.items():\n",
        "      intent = key\n",
        "      regex_pattern = value\n",
        "      found_match = re.search(regex_pattern, reply)\n",
        "      if found_match and intent == 'answer_why_intent':\n",
        "        return self.answer_why_intent()\n",
        "\n",
        "      elif found_match and intent == \"describe_planet_intent\":\n",
        "        return self.describe_planet_intent()\n",
        "\n",
        "      elif found_match and intent == \"cubed_intent\":\n",
        "        return self.cubed_intent(found_match.groups()[0])\n",
        "      else:\n",
        "        return self.no_match_intent()\n",
        "\n",
        "  # Define .describe_planet_intent():\n",
        "  def describe_planet_intent(self):\n",
        "    responses = (\"My planet is an utopia of diverse organisms and species. \", \"I am from Odipidus, the capital of the Wayward Galaxies. \")\n",
        "    return random.choice(responses)\n",
        "  # Define .answer_why_intent():\n",
        "  def answer_why_intent(self):\n",
        "    responses = (\"I come in peace. \",\n",
        "\"I am here to collect data on your planet and its inhabitants. \", \"I heard the coffee is good. \")\n",
        "    return random.choice(responses)  # Define .cubed_intent():\n",
        "  def cubed_intent(self, number):\n",
        "    int(number)\n",
        "    cubed_number = number ** 3\n",
        "    return (f\"The cube of {number} is {cubed_number}. Isn't that cool? \")\n",
        "  # Define .no_match_intent():\n",
        "  def no_match_intent(self):\n",
        "    responses = (\"Please tell me more. \", \"Tell me more! \", \"Why do you say that? \", \"I see. Can you elaborate? \", \"Interesting. Can you tell me more? \", \"Why?\")\n",
        "    return random.choice(responses)\n",
        "# Create an instance of AlienBot below:\n",
        "Jarvis = AlienBot()\n",
        "Jarvis.greet()"
      ]
    }
  ]
}